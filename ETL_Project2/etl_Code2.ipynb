{
 "cells": [
  {
   "cell_type": "code",
   "execution_count": 2,
   "metadata": {},
   "outputs": [],
   "source": [
    "import pandas as pd\n",
    "import xml.etree.ElementTree as et\n",
    "import glob\n"
   ]
  },
  {
   "cell_type": "code",
   "execution_count": 8,
   "metadata": {},
   "outputs": [],
   "source": [
    "target_file=\"transformed_data.csv\"\n",
    "log_data=\"log_file.txt\""
   ]
  },
  {
   "cell_type": "code",
   "execution_count": 4,
   "metadata": {},
   "outputs": [],
   "source": [
    "# extract data from csv file\n",
    "def extract_csv_file(data_to_process):\n",
    "    df=pd.read_csv(data_to_process)\n",
    "    return df"
   ]
  },
  {
   "cell_type": "code",
   "execution_count": 5,
   "metadata": {},
   "outputs": [],
   "source": [
    "# etract data from json file\n",
    "def extract_json_file(data_to_process):\n",
    "    df=pd.read_json(data_to_process)\n",
    "    return df"
   ]
  },
  {
   "cell_type": "code",
   "execution_count": 26,
   "metadata": {},
   "outputs": [],
   "source": [
    "#etract data from xml file\n",
    "\n",
    "def extract_from_xml(data_to_process):\n",
    "    df=pd.DataFrame(columns=['car_model','year_of_manufacture','price','fuel'])\n",
    "    tree=et.parse(data_to_process)\n",
    "    root=tree.getroot()\n",
    "    for row in root:\n",
    "        car_model=row.find('car_model').text\n",
    "        year_of_manufacture=row.find('year_of_manufacture').text\n",
    "        price=row.find('price')\n",
    "        fuel=row.find('fuel').text\n",
    "        df=pd.concat([df,pd.DataFrame([{'car_model':car_model,'year_of_manufacture':year_of_manufacture,'price':price,'fuel':fuel}])],ignore_index=True)\n",
    "        return df"
   ]
  },
  {
   "cell_type": "code",
   "execution_count": 27,
   "metadata": {},
   "outputs": [],
   "source": [
    "def extract():\n",
    "    extracted_data = pd.DataFrame(columns=['car_model','year_of_manufacture','price','fuel']) # create an empty data frame to hold extracted data \n",
    "\n",
    "    for csvfile in glob.glob(\"*.csv\"):\n",
    "        extracted_data=pd.concat([extracted_data,extract_csv_file(csvfile)],ignore_index=True)\n",
    "    \n",
    "    for jsonfile in glob.glob('*.json'):\n",
    "        extracted_data=pd.concat([extracted_data,extract_json_file(jsonfile)],ignore_index=True)\n",
    "        \n",
    "    for xmlfile in glob.glob('*.xml'):\n",
    "        extracted_data=pd.concat([extracted_data,extract_from_xml(xmlfile)],ignore_index=True)\n",
    "        \n",
    "    return extracted_data"
   ]
  },
  {
   "cell_type": "code",
   "execution_count": 30,
   "metadata": {},
   "outputs": [],
   "source": [
    "def load_data(target_file,transformed_data):\n",
    "    transformed_data.to_csv(target_file)"
   ]
  },
  {
   "cell_type": "code",
   "execution_count": 28,
   "metadata": {},
   "outputs": [],
   "source": [
    "# logging file \n",
    "from datetime import datetime\n",
    "def log_progress(message):\n",
    "    timestamp_format='%Y-%h-%d-%H:%M:%S'\n",
    "    # get currenttimes tamp\n",
    "    now=datetime.now()\n",
    "    timestamp = now.strftime(timestamp_format)\n",
    "    \n",
    "    with open(log_data,\"a\") as f: \n",
    "        f.write(timestamp + ',' + message + '\\n') "
   ]
  },
  {
   "cell_type": "code",
   "execution_count": 31,
   "metadata": {},
   "outputs": [
    {
     "name": "stderr",
     "output_type": "stream",
     "text": [
      "C:\\Users\\GPU-TECH\\AppData\\Local\\Temp\\ipykernel_6684\\1076578463.py:5: FutureWarning: The behavior of DataFrame concatenation with empty or all-NA entries is deprecated. In a future version, this will no longer exclude empty or all-NA columns when determining the result dtypes. To retain the old behavior, exclude the relevant entries before the concat operation.\n",
      "  extracted_data=pd.concat([extracted_data,extract_csv_file(csvfile)],ignore_index=True)\n",
      "C:\\Users\\GPU-TECH\\AppData\\Local\\Temp\\ipykernel_6684\\1076578463.py:5: FutureWarning: The behavior of DataFrame concatenation with empty or all-NA entries is deprecated. In a future version, this will no longer exclude empty or all-NA columns when determining the result dtypes. To retain the old behavior, exclude the relevant entries before the concat operation.\n",
      "  extracted_data=pd.concat([extracted_data,extract_csv_file(csvfile)],ignore_index=True)\n"
     ]
    }
   ],
   "source": [
    "# Log the initialization of the ETL process \n",
    "log_progress(\"ETL Job Started\") \n",
    " \n",
    "# Log the beginning of the Extraction process \n",
    "log_progress(\"Extract phase Started\") \n",
    "extracted_data = extract() \n",
    " \n",
    "# Log the completion of the Extraction process \n",
    "log_progress(\"Extract phase Ended\") \n",
    " \n",
    " \n",
    "# Log the completion of the Transformation process \n",
    "log_progress(\"Transform phase Ended\") \n",
    "\n",
    "# Log the beginning of the Loading process \n",
    "log_progress(\"Load phase Started\") \n",
    "transformed_data=extract()\n",
    "load_data(target_file,transformed_data)\n",
    " \n",
    "# Log the completion of the Loading process \n",
    "log_progress(\"Load phase Ended\") \n",
    " \n",
    "# Log the completion of the ETL process \n",
    "log_progress(\"ETL Job Ended\") "
   ]
  },
  {
   "cell_type": "code",
   "execution_count": null,
   "metadata": {},
   "outputs": [],
   "source": []
  },
  {
   "cell_type": "code",
   "execution_count": null,
   "metadata": {},
   "outputs": [],
   "source": []
  }
 ],
 "metadata": {
  "kernelspec": {
   "display_name": "Python 3",
   "language": "python",
   "name": "python3"
  },
  "language_info": {
   "codemirror_mode": {
    "name": "ipython",
    "version": 3
   },
   "file_extension": ".py",
   "mimetype": "text/x-python",
   "name": "python",
   "nbconvert_exporter": "python",
   "pygments_lexer": "ipython3",
   "version": "3.12.0"
  }
 },
 "nbformat": 4,
 "nbformat_minor": 2
}
